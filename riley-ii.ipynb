{
 "cells": [
  {
   "cell_type": "markdown",
   "id": "2843bfaa",
   "metadata": {},
   "source": [
    "# Riley ii\n",
    "\n",
    "Picking up from the first notebook, let's start experimenting with ways to generate colour palletes.\n",
    "\n",
    "First off, define the same function from the last notebook."
   ]
  },
  {
   "cell_type": "code",
   "execution_count": 3,
   "id": "1fcbaaf2",
   "metadata": {},
   "outputs": [],
   "source": [
    "import shades\n",
    "import random"
   ]
  },
  {
   "cell_type": "code",
   "execution_count": 4,
   "id": "640666d1",
   "metadata": {},
   "outputs": [],
   "source": [
    "def pick_two_colors(pallete: list, pallete_weights: list) -> list:\n",
    "    \"\"\"\n",
    "    Pick two colors in line with weights given\n",
    "    \"\"\"\n",
    "    if random.random() < 0.25:\n",
    "        color = random.choices(pallete, weights=pallete_weights)[0]\n",
    "        return [color, color]\n",
    "    return random.choices(pallete, weights=pallete_weights, k=2)"
   ]
  },
  {
   "cell_type": "code",
   "execution_count": 122,
   "id": "14840528",
   "metadata": {},
   "outputs": [],
   "source": []
  },
  {
   "cell_type": "markdown",
   "id": "21f27cd1",
   "metadata": {},
   "source": [
    "## Generate evenly spaced around a colour wheel\n",
    "\n",
    "We'll use HSV, define a start colour, and then move around the colour wheel equally to make a pallete"
   ]
  },
  {
   "cell_type": "code",
   "execution_count": 6,
   "id": "c2b6861c",
   "metadata": {},
   "outputs": [],
   "source": [
    "import colorsys"
   ]
  },
  {
   "cell_type": "code",
   "execution_count": 83,
   "id": "f67ddd4f",
   "metadata": {},
   "outputs": [],
   "source": [
    "def make_even_pallete(starter_color, colors_in_pallete):\n",
    "    starter_color = [i/255 for i in starter_color]\n",
    "    starter_color = colorsys.rgb_to_hsv(*starter_color)\n",
    "    # we'll keep the same saturation and value, and space out evenly the hue\n",
    "    pallete = [\n",
    "        (\n",
    "            ((starter_color[0] + (i * 1/colors_in_pallete)) % 1),\n",
    "            starter_color[1],\n",
    "            starter_color[2],\n",
    "        )\n",
    "        for i in range(colors_in_pallete)]\n",
    "    pallete = [colorsys.hsv_to_rgb(*i) for i in pallete]\n",
    "    pallete = [tuple(int(i * 255) for i in color) for color in pallete]\n",
    "    return pallete"
   ]
  },
  {
   "cell_type": "code",
   "execution_count": 67,
   "id": "e4512019",
   "metadata": {},
   "outputs": [
    {
     "data": {
      "text/plain": [
       "[0, 1, 2, 3]"
      ]
     },
     "execution_count": 67,
     "metadata": {},
     "output_type": "execute_result"
    }
   ],
   "source": [
    "[i for i in range(4)]"
   ]
  },
  {
   "cell_type": "code",
   "execution_count": 62,
   "id": "7ca338c9",
   "metadata": {},
   "outputs": [],
   "source": [
    "def show_pallete(pallete: list) -> shades.Canvas:\n",
    "    canvas = shades.Canvas(500, 500)\n",
    "    for i, color in enumerate(pallete):\n",
    "        width = int(canvas.width / len(pallete))\n",
    "        xy = (int(width * i), 0)\n",
    "        tone = shades.BlockColor(color)\n",
    "        tone.rectangle(\n",
    "            canvas,\n",
    "            xy,\n",
    "            width,\n",
    "            canvas.height,\n",
    "        )\n",
    "    return canvas"
   ]
  },
  {
   "cell_type": "code",
   "execution_count": 84,
   "id": "4ce28ddc",
   "metadata": {},
   "outputs": [
    {
     "data": {
      "image/png": "[encoded data removed]",
      "text/plain": [
       "<PIL.Image.Image image mode=RGB size=500x500 at 0x7F6DDFF47CA0>"
      ]
     },
     "execution_count": 84,
     "metadata": {},
     "output_type": "execute_result"
    }
   ],
   "source": [
    "show_pallete(make_even_pallete((102, 153, 255), 4))"
   ]
  },
  {
   "cell_type": "code",
   "execution_count": 85,
   "id": "2eefa733",
   "metadata": {},
   "outputs": [
    {
     "data": {
      "image/png": "[encoded data removed]",
      "text/plain": [
       "<PIL.Image.Image image mode=RGB size=500x500 at 0x7F6DDFF47910>"
      ]
     },
     "execution_count": 85,
     "metadata": {},
     "output_type": "execute_result"
    }
   ],
   "source": [
    "show_pallete(make_even_pallete((102, 153, 255), 3))"
   ]
  },
  {
   "cell_type": "code",
   "execution_count": 86,
   "id": "61cb0788",
   "metadata": {},
   "outputs": [
    {
     "data": {
      "image/png": "[encoded data removed]",
      "text/plain": [
       "<PIL.Image.Image image mode=RGB size=500x500 at 0x7F6DDFFE5900>"
      ]
     },
     "execution_count": 86,
     "metadata": {},
     "output_type": "execute_result"
    }
   ],
   "source": [
    "show_pallete(make_even_pallete((102, 153, 255), 30))"
   ]
  },
  {
   "cell_type": "markdown",
   "id": "47f91ffa",
   "metadata": {},
   "source": [
    "Ok, cool, I actually like that a lot as a method. Let's introduce some entopy to shift the colors a little and make things a bit less deterministic"
   ]
  },
  {
   "cell_type": "code",
   "execution_count": 102,
   "id": "78e8c7ef",
   "metadata": {},
   "outputs": [],
   "source": [
    "def make_even_pallete(starter_color, colors_in_pallete, entropy=0):\n",
    "    starter_color = [i/255 for i in starter_color]\n",
    "    starter_color = colorsys.rgb_to_hsv(*starter_color)\n",
    "    # we'll keep the same saturation and value, and space out evenly the hue\n",
    "    pallete = [\n",
    "        (\n",
    "            ((starter_color[0] + (i * 1/colors_in_pallete)) % 1),\n",
    "            starter_color[1],\n",
    "            starter_color[2],\n",
    "        )\n",
    "        for i in range(colors_in_pallete)]\n",
    "    pallete = [colorsys.hsv_to_rgb(*i) for i in pallete]\n",
    "    pallete = [tuple(int((i + random.uniform(-entropy, entropy)) * 255) for i in color) for color in pallete]\n",
    "    return pallete"
   ]
  },
  {
   "cell_type": "code",
   "execution_count": 113,
   "id": "5f1431fc",
   "metadata": {},
   "outputs": [
    {
     "data": {
      "image/png": "[encoded data removed]",
      "text/plain": [
       "<PIL.Image.Image image mode=RGB size=500x500 at 0x7F6DDFFEC0D0>"
      ]
     },
     "execution_count": 113,
     "metadata": {},
     "output_type": "execute_result"
    }
   ],
   "source": [
    "show_pallete(make_even_pallete((102, 153, 255), 7, 0.1))"
   ]
  },
  {
   "cell_type": "markdown",
   "id": "24fd4d59",
   "metadata": {},
   "source": [
    "That works for what I want. I think I'd like a few variations of colors as well though.\n",
    "\n",
    "Lets duplicate the pallete then apply entropy n times."
   ]
  },
  {
   "cell_type": "code",
   "execution_count": 114,
   "id": "d29efbbb",
   "metadata": {},
   "outputs": [],
   "source": [
    "def make_even_pallete(starter_color, colors_in_pallete, entropy=0, variations=1):\n",
    "    starter_color = [i/255 for i in starter_color]\n",
    "    starter_color = colorsys.rgb_to_hsv(*starter_color)\n",
    "    # we'll keep the same saturation and value, and space out evenly the hue\n",
    "    pallete = [\n",
    "        (\n",
    "            ((starter_color[0] + (i * 1/colors_in_pallete)) % 1),\n",
    "            starter_color[1],\n",
    "            starter_color[2],\n",
    "        )\n",
    "        for i in range(colors_in_pallete)]\n",
    "    pallete = [colorsys.hsv_to_rgb(*i) for i in pallete]\n",
    "    output_pallete = []\n",
    "    for i in range(variations):\n",
    "        output_pallete += [tuple(int((i + random.uniform(-entropy, entropy)) * 255) for i in color) for color in pallete]\n",
    "    return output_pallete"
   ]
  },
  {
   "cell_type": "code",
   "execution_count": 121,
   "id": "502c7bfe",
   "metadata": {},
   "outputs": [
    {
     "data": {
      "image/png": "[encoded data removed]",
      "text/plain": [
       "<PIL.Image.Image image mode=RGB size=500x500 at 0x7F6DDF1DA620>"
      ]
     },
     "execution_count": 121,
     "metadata": {},
     "output_type": "execute_result"
    }
   ],
   "source": [
    "show_pallete(make_even_pallete((102, 153, 255), 3, 0.1, 4))"
   ]
  },
  {
   "cell_type": "markdown",
   "id": "bb7460cc",
   "metadata": {},
   "source": [
    "Now let's incorporate that into our riley algorithm\n",
    "\n",
    "We'll use the initial selection of colours as our starter choices"
   ]
  },
  {
   "cell_type": "code",
   "execution_count": 196,
   "id": "16c8ea78",
   "metadata": {},
   "outputs": [],
   "source": [
    "def riley() -> shades.Canvas:\n",
    "    pallete = make_even_pallete(\n",
    "        (137, 207, 240),\n",
    "        random.randint(2, 5),\n",
    "        random.uniform(0, 0.12),\n",
    "        random.randint(2, 4),\n",
    "    )\n",
    "    canvas = shades.Canvas(500, 800)\n",
    "    ink = shades.BlockColor()\n",
    "\n",
    "    pallete_weights = [random.random() for i in range(len(pallete))]\n",
    "\n",
    "    grid_width = random.randint(5, 50)\n",
    "    grid_offset = int(random.randint(5, 50)/random.choice([1, 2, 4]))\n",
    "    grid_height = grid_offset * 2 # ensuring exact division\n",
    "    block_size = 6\n",
    "\n",
    "    for j, x in enumerate(range(-grid_width, canvas.width+grid_width, grid_width)):\n",
    "        for i, y in enumerate(range(-grid_height-grid_offset, canvas.height+grid_height+grid_offset, grid_height)):\n",
    "            if (i + j) % block_size == 0:\n",
    "                two_colors = pick_two_colors(pallete, pallete_weights)\n",
    "            ink.color = two_colors[i % 2]\n",
    "            ink.shape(\n",
    "                canvas,\n",
    "                [(x, y + grid_offset),\n",
    "                (x + grid_width, y - grid_offset),\n",
    "                (x + grid_width, y + grid_height - grid_offset),\n",
    "                (x, y + grid_height + grid_offset)],\n",
    "            )\n",
    "        \n",
    "    return canvas"
   ]
  },
  {
   "cell_type": "code",
   "execution_count": 190,
   "id": "74c3de01",
   "metadata": {},
   "outputs": [
    {
     "data": {
      "image/png": "[encoded data removed]",
      "text/plain": [
       "<PIL.Image.Image image mode=RGB size=800x500 at 0x7F6DDF1DB0D0>"
      ]
     },
     "execution_count": 190,
     "metadata": {},
     "output_type": "execute_result"
    }
   ],
   "source": [
    "riley()"
   ]
  },
  {
   "cell_type": "code",
   "execution_count": 194,
   "id": "a75e34e9",
   "metadata": {},
   "outputs": [
    {
     "data": {
      "image/png": "[encoded data removed]",
      "text/plain": [
       "<PIL.Image.Image image mode=RGB size=800x500 at 0x7F6DDF183430>"
      ]
     },
     "execution_count": 194,
     "metadata": {},
     "output_type": "execute_result"
    }
   ],
   "source": [
    "riley()"
   ]
  },
  {
   "cell_type": "code",
   "execution_count": 192,
   "id": "df6ca5cb",
   "metadata": {},
   "outputs": [
    {
     "data": {
      "image/png": "[encoded data removed]",
      "text/plain": [
       "<PIL.Image.Image image mode=RGB size=800x500 at 0x7F6DDF1D9660>"
      ]
     },
     "execution_count": 192,
     "metadata": {},
     "output_type": "execute_result"
    }
   ],
   "source": [
    "riley()"
   ]
  },
  {
   "cell_type": "code",
   "execution_count": 195,
   "id": "b07b89aa",
   "metadata": {},
   "outputs": [
    {
     "data": {
      "image/png": "[encoded data removed]",
      "text/plain": [
       "<PIL.Image.Image image mode=RGB size=800x500 at 0x7F6DDF1831C0>"
      ]
     },
     "execution_count": 195,
     "metadata": {},
     "output_type": "execute_result"
    }
   ],
   "source": [
    "riley()"
   ]
  },
  {
   "cell_type": "markdown",
   "id": "95c6a889",
   "metadata": {},
   "source": [
    "Ok, all these color combinations are literally horrible - let's take it back a notch"
   ]
  }
 ],
 "metadata": {
  "kernelspec": {
   "display_name": "Python 3 (ipykernel)",
   "language": "python",
   "name": "python3"
  },
  "language_info": {
   "codemirror_mode": {
    "name": "ipython",
    "version": 3
   },
   "file_extension": ".py",
   "mimetype": "text/x-python",
   "name": "python",
   "nbconvert_exporter": "python",
   "pygments_lexer": "ipython3",
   "version": "3.10.6"
  }
 },
 "nbformat": 4,
 "nbformat_minor": 5
}
